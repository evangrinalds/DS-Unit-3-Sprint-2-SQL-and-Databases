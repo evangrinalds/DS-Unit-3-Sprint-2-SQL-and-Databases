{
  "nbformat": 4,
  "nbformat_minor": 0,
  "metadata": {
    "colab": {
      "name": "DS17 Unit 3 Sprint 2 Module 3 MongoDB.ipynb",
      "provenance": [],
      "include_colab_link": true
    },
    "kernelspec": {
      "name": "python3",
      "display_name": "Python 3"
    }
  },
  "cells": [
    {
      "cell_type": "markdown",
      "metadata": {
        "id": "view-in-github",
        "colab_type": "text"
      },
      "source": [
        "<a href=\"https://colab.research.google.com/github/evangrinalds/DS-Unit-3-Sprint-2-SQL-and-Databases/blob/master/module3-nosql-and-document-oriented-databases/DS17_Unit_3_Sprint_2_Module_3_MongoDB.ipynb\" target=\"_parent\"><img src=\"https://colab.research.google.com/assets/colab-badge.svg\" alt=\"Open In Colab\"/></a>"
      ]
    },
    {
      "cell_type": "markdown",
      "metadata": {
        "id": "RPPsqY_hU8sF",
        "colab_type": "text"
      },
      "source": [
        "# MongoDB with PyMongo\n",
        "\n",
        "LSDS Unit 3 Sprint 2 Module 3\n",
        "\n",
        "\n",
        "This notebook is to explore/understand MongoDB with Python. Notebooks and REPLs can be great for exploration, but for your assignment you should still turn in .py files.\n",
        "\n",
        "Some resources:\n",
        "\n",
        "https://docs.atlas.mongodb.com/getting-started/\n",
        "\n",
        "https://api.mongodb.com/python/current/\n",
        "\n",
        "HN Discussion on MongoDB versus PostgreSQL/SQLite: https://news.ycombinator.com/item?id=19158854"
      ]
    },
    {
      "cell_type": "code",
      "metadata": {
        "id": "eIf0qUFujIuA",
        "colab_type": "code",
        "colab": {
          "base_uri": "https://localhost:8080/",
          "height": 34
        },
        "outputId": "139a0c80-f614-431c-ddc6-0533cf87f5b6"
      },
      "source": [
        "!pip install pymongo # pipenv if local"
      ],
      "execution_count": 2,
      "outputs": [
        {
          "output_type": "stream",
          "text": [
            "Requirement already satisfied: pymongo in /usr/local/lib/python3.6/dist-packages (3.11.0)\n"
          ],
          "name": "stdout"
        }
      ]
    },
    {
      "cell_type": "code",
      "metadata": {
        "id": "QoKTy7SsjPkB",
        "colab_type": "code",
        "colab": {
          "base_uri": "https://localhost:8080/",
          "height": 122
        },
        "outputId": "e378480a-e84d-497b-c35d-bceb4b2389a3"
      },
      "source": [
        "!pip install dnspython # Needed for Python 3.6 string, else use 3.4"
      ],
      "execution_count": 3,
      "outputs": [
        {
          "output_type": "stream",
          "text": [
            "Collecting dnspython\n",
            "\u001b[?25l  Downloading https://files.pythonhosted.org/packages/90/49/cb426577c28ca3e35332815b795a99e467523843fc83cc85ca0d6be2515a/dnspython-2.0.0-py3-none-any.whl (208kB)\n",
            "\u001b[K     |████████████████████████████████| 215kB 2.8MB/s \n",
            "\u001b[?25hInstalling collected packages: dnspython\n",
            "Successfully installed dnspython-2.0.0\n"
          ],
          "name": "stdout"
        }
      ]
    },
    {
      "cell_type": "code",
      "metadata": {
        "id": "vow5tRGVjWL1",
        "colab_type": "code",
        "colab": {}
      },
      "source": [
        "import pymongo"
      ],
      "execution_count": 4,
      "outputs": []
    },
    {
      "cell_type": "code",
      "metadata": {
        "id": "vjAEJzHFUjY-",
        "colab_type": "code",
        "colab": {
          "base_uri": "https://localhost:8080/",
          "height": 34
        },
        "outputId": "a591228c-b123-41a3-bff9-5b92bc5b4551"
      },
      "source": [
        "# Find out the IP address of this Colab instance\n",
        "!curl ipecho.net/plain"
      ],
      "execution_count": 5,
      "outputs": [
        {
          "output_type": "stream",
          "text": [
            "35.201.138.108"
          ],
          "name": "stdout"
        }
      ]
    },
    {
      "cell_type": "code",
      "metadata": {
        "id": "yLdTa293h43E",
        "colab_type": "code",
        "colab": {}
      },
      "source": [
        "password = 'uZLDbYg2fwlyUZld' # Don't commit/share this! Reset it if it leak\n",
        "dbname = 'test'\n",
        "connection = client = ('mongodb+srv://egrinalds:' + password + \n",
        "                       '@cluster0.mmghk.mongodb.net/' + dbname +\n",
        "                       '?retryWrites=true&w=majority')\n",
        "\n",
        "client = pymongo.MongoClient(connection)\n",
        "db = client.test"
      ],
      "execution_count": 6,
      "outputs": []
    },
    {
      "cell_type": "code",
      "metadata": {
        "id": "ddbdWHKRkr20",
        "colab_type": "code",
        "colab": {
          "base_uri": "https://localhost:8080/",
          "height": 54
        },
        "outputId": "1e0967fb-42b2-4990-c1fe-122c84ef491d"
      },
      "source": [
        "db"
      ],
      "execution_count": 7,
      "outputs": [
        {
          "output_type": "execute_result",
          "data": {
            "text/plain": [
              "Database(MongoClient(host=['cluster0-shard-00-01.mmghk.mongodb.net:27017', 'cluster0-shard-00-02.mmghk.mongodb.net:27017', 'cluster0-shard-00-00.mmghk.mongodb.net:27017'], document_class=dict, tz_aware=False, connect=True, retrywrites=True, w='majority', authsource='admin', replicaset='atlas-px99jm-shard-0', ssl=True), 'test')"
            ]
          },
          "metadata": {
            "tags": []
          },
          "execution_count": 7
        }
      ]
    },
    {
      "cell_type": "code",
      "metadata": {
        "id": "4YoE_NHckts1",
        "colab_type": "code",
        "colab": {
          "base_uri": "https://localhost:8080/",
          "height": 54
        },
        "outputId": "822d5ae9-0db2-4505-86f8-9769692e5b25"
      },
      "source": [
        "db.test"
      ],
      "execution_count": 8,
      "outputs": [
        {
          "output_type": "execute_result",
          "data": {
            "text/plain": [
              "Collection(Database(MongoClient(host=['cluster0-shard-00-01.mmghk.mongodb.net:27017', 'cluster0-shard-00-02.mmghk.mongodb.net:27017', 'cluster0-shard-00-00.mmghk.mongodb.net:27017'], document_class=dict, tz_aware=False, connect=True, retrywrites=True, w='majority', authsource='admin', replicaset='atlas-px99jm-shard-0', ssl=True), 'test'), 'test')"
            ]
          },
          "metadata": {
            "tags": []
          },
          "execution_count": 8
        }
      ]
    },
    {
      "cell_type": "code",
      "metadata": {
        "id": "rWbhjDcmmRTu",
        "colab_type": "code",
        "colab": {
          "base_uri": "https://localhost:8080/",
          "height": 1000
        },
        "outputId": "58bc80ce-d48a-4a90-b9c5-afc42dd9be8f"
      },
      "source": [
        "dir(db.test)"
      ],
      "execution_count": 9,
      "outputs": [
        {
          "output_type": "execute_result",
          "data": {
            "text/plain": [
              "['_BaseObject__codec_options',\n",
              " '_BaseObject__read_concern',\n",
              " '_BaseObject__read_preference',\n",
              " '_BaseObject__write_concern',\n",
              " '_Collection__create',\n",
              " '_Collection__create_indexes',\n",
              " '_Collection__database',\n",
              " '_Collection__find_and_modify',\n",
              " '_Collection__full_name',\n",
              " '_Collection__name',\n",
              " '_Collection__write_response_codec_options',\n",
              " '__call__',\n",
              " '__class__',\n",
              " '__delattr__',\n",
              " '__dict__',\n",
              " '__dir__',\n",
              " '__doc__',\n",
              " '__eq__',\n",
              " '__format__',\n",
              " '__ge__',\n",
              " '__getattr__',\n",
              " '__getattribute__',\n",
              " '__getitem__',\n",
              " '__gt__',\n",
              " '__hash__',\n",
              " '__init__',\n",
              " '__init_subclass__',\n",
              " '__iter__',\n",
              " '__le__',\n",
              " '__lt__',\n",
              " '__module__',\n",
              " '__ne__',\n",
              " '__new__',\n",
              " '__next__',\n",
              " '__reduce__',\n",
              " '__reduce_ex__',\n",
              " '__repr__',\n",
              " '__setattr__',\n",
              " '__sizeof__',\n",
              " '__str__',\n",
              " '__subclasshook__',\n",
              " '__weakref__',\n",
              " '_aggregate',\n",
              " '_aggregate_one_result',\n",
              " '_command',\n",
              " '_count',\n",
              " '_delete',\n",
              " '_delete_retryable',\n",
              " '_insert',\n",
              " '_insert_one',\n",
              " '_legacy_write',\n",
              " '_map_reduce',\n",
              " '_read_preference_for',\n",
              " '_socket_for_reads',\n",
              " '_socket_for_writes',\n",
              " '_update',\n",
              " '_update_retryable',\n",
              " '_write_concern_for',\n",
              " '_write_concern_for_cmd',\n",
              " 'aggregate',\n",
              " 'aggregate_raw_batches',\n",
              " 'bulk_write',\n",
              " 'codec_options',\n",
              " 'count',\n",
              " 'count_documents',\n",
              " 'create_index',\n",
              " 'create_indexes',\n",
              " 'database',\n",
              " 'delete_many',\n",
              " 'delete_one',\n",
              " 'distinct',\n",
              " 'drop',\n",
              " 'drop_index',\n",
              " 'drop_indexes',\n",
              " 'ensure_index',\n",
              " 'estimated_document_count',\n",
              " 'find',\n",
              " 'find_and_modify',\n",
              " 'find_one',\n",
              " 'find_one_and_delete',\n",
              " 'find_one_and_replace',\n",
              " 'find_one_and_update',\n",
              " 'find_raw_batches',\n",
              " 'full_name',\n",
              " 'group',\n",
              " 'index_information',\n",
              " 'initialize_ordered_bulk_op',\n",
              " 'initialize_unordered_bulk_op',\n",
              " 'inline_map_reduce',\n",
              " 'insert',\n",
              " 'insert_many',\n",
              " 'insert_one',\n",
              " 'list_indexes',\n",
              " 'map_reduce',\n",
              " 'name',\n",
              " 'next',\n",
              " 'options',\n",
              " 'parallel_scan',\n",
              " 'read_concern',\n",
              " 'read_preference',\n",
              " 'reindex',\n",
              " 'remove',\n",
              " 'rename',\n",
              " 'replace_one',\n",
              " 'save',\n",
              " 'update',\n",
              " 'update_many',\n",
              " 'update_one',\n",
              " 'watch',\n",
              " 'with_options',\n",
              " 'write_concern']"
            ]
          },
          "metadata": {
            "tags": []
          },
          "execution_count": 9
        }
      ]
    },
    {
      "cell_type": "code",
      "metadata": {
        "id": "0l3odnrSnNl6",
        "colab_type": "code",
        "colab": {
          "base_uri": "https://localhost:8080/",
          "height": 680
        },
        "outputId": "5751d885-4775-48fc-9946-aecf68eeb54b"
      },
      "source": [
        "# Let's figure out inserting some data\n",
        "help(db.test.insert_one)"
      ],
      "execution_count": 10,
      "outputs": [
        {
          "output_type": "stream",
          "text": [
            "Help on method insert_one in module pymongo.collection:\n",
            "\n",
            "insert_one(document, bypass_document_validation=False, session=None) method of pymongo.collection.Collection instance\n",
            "    Insert a single document.\n",
            "    \n",
            "      >>> db.test.count_documents({'x': 1})\n",
            "      0\n",
            "      >>> result = db.test.insert_one({'x': 1})\n",
            "      >>> result.inserted_id\n",
            "      ObjectId('54f112defba522406c9cc208')\n",
            "      >>> db.test.find_one({'x': 1})\n",
            "      {u'x': 1, u'_id': ObjectId('54f112defba522406c9cc208')}\n",
            "    \n",
            "    :Parameters:\n",
            "      - `document`: The document to insert. Must be a mutable mapping\n",
            "        type. If the document does not have an _id field one will be\n",
            "        added automatically.\n",
            "      - `bypass_document_validation`: (optional) If ``True``, allows the\n",
            "        write to opt-out of document level validation. Default is\n",
            "        ``False``.\n",
            "      - `session` (optional): a\n",
            "        :class:`~pymongo.client_session.ClientSession`.\n",
            "    \n",
            "    :Returns:\n",
            "      - An instance of :class:`~pymongo.results.InsertOneResult`.\n",
            "    \n",
            "    .. seealso:: :ref:`writes-and-ids`\n",
            "    \n",
            "    .. note:: `bypass_document_validation` requires server version\n",
            "      **>= 3.2**\n",
            "    \n",
            "    .. versionchanged:: 3.6\n",
            "       Added ``session`` parameter.\n",
            "    \n",
            "    .. versionchanged:: 3.2\n",
            "      Added bypass_document_validation support\n",
            "    \n",
            "    .. versionadded:: 3.0\n",
            "\n"
          ],
          "name": "stdout"
        }
      ]
    },
    {
      "cell_type": "code",
      "metadata": {
        "id": "hW9gIrN6nsh5",
        "colab_type": "code",
        "colab": {
          "base_uri": "https://localhost:8080/",
          "height": 34
        },
        "outputId": "7f4efa70-ec04-422c-cd05-eb3fc355de24"
      },
      "source": [
        "db.test.insert_one({'x': 1})"
      ],
      "execution_count": 11,
      "outputs": [
        {
          "output_type": "execute_result",
          "data": {
            "text/plain": [
              "<pymongo.results.InsertOneResult at 0x7f7f3ae0a0c8>"
            ]
          },
          "metadata": {
            "tags": []
          },
          "execution_count": 11
        }
      ]
    },
    {
      "cell_type": "code",
      "metadata": {
        "id": "MEc3RTKvpAaq",
        "colab_type": "code",
        "colab": {
          "base_uri": "https://localhost:8080/",
          "height": 34
        },
        "outputId": "c7627584-3c7e-4a35-ed05-0507beb0c870"
      },
      "source": [
        "db.test.count_documents({'x': 1})"
      ],
      "execution_count": 12,
      "outputs": [
        {
          "output_type": "execute_result",
          "data": {
            "text/plain": [
              "4"
            ]
          },
          "metadata": {
            "tags": []
          },
          "execution_count": 12
        }
      ]
    },
    {
      "cell_type": "code",
      "metadata": {
        "id": "YxgXFkZlpDpv",
        "colab_type": "code",
        "colab": {
          "base_uri": "https://localhost:8080/",
          "height": 34
        },
        "outputId": "555e0ce2-b636-436d-845a-1f99bf815a8b"
      },
      "source": [
        "db.test.insert_one({'x': 1})"
      ],
      "execution_count": 14,
      "outputs": [
        {
          "output_type": "execute_result",
          "data": {
            "text/plain": [
              "<pymongo.results.InsertOneResult at 0x7f7f3ad00408>"
            ]
          },
          "metadata": {
            "tags": []
          },
          "execution_count": 14
        }
      ]
    },
    {
      "cell_type": "code",
      "metadata": {
        "id": "RufA46d8pMOq",
        "colab_type": "code",
        "colab": {
          "base_uri": "https://localhost:8080/",
          "height": 34
        },
        "outputId": "13e4f33a-3d0e-4100-9eb0-a1a45b806fc7"
      },
      "source": [
        "db.test.count_documents({'x': 1})"
      ],
      "execution_count": 15,
      "outputs": [
        {
          "output_type": "execute_result",
          "data": {
            "text/plain": [
              "6"
            ]
          },
          "metadata": {
            "tags": []
          },
          "execution_count": 15
        }
      ]
    },
    {
      "cell_type": "code",
      "metadata": {
        "id": "aWR4BGPhpVh6",
        "colab_type": "code",
        "colab": {
          "base_uri": "https://localhost:8080/",
          "height": 34
        },
        "outputId": "dead2774-424a-4c25-8ff9-f60b353a95ce"
      },
      "source": [
        "db.test.insert_one({'x': 1})"
      ],
      "execution_count": 16,
      "outputs": [
        {
          "output_type": "execute_result",
          "data": {
            "text/plain": [
              "<pymongo.results.InsertOneResult at 0x7f7f3ae0a4c8>"
            ]
          },
          "metadata": {
            "tags": []
          },
          "execution_count": 16
        }
      ]
    },
    {
      "cell_type": "code",
      "metadata": {
        "id": "x5XzZbBopWO9",
        "colab_type": "code",
        "colab": {}
      },
      "source": [
        "curs = db.test.find({'x': 1})"
      ],
      "execution_count": 17,
      "outputs": []
    },
    {
      "cell_type": "code",
      "metadata": {
        "id": "t8gmmV9Rpabf",
        "colab_type": "code",
        "colab": {
          "base_uri": "https://localhost:8080/",
          "height": 136
        },
        "outputId": "1b3b7a3b-b7bb-49ae-b1a7-982d3f98cd11"
      },
      "source": [
        "list(curs)"
      ],
      "execution_count": 18,
      "outputs": [
        {
          "output_type": "execute_result",
          "data": {
            "text/plain": [
              "[{'_id': ObjectId('5f344c5ac633d6915efd5318'), 'x': 1},\n",
              " {'_id': ObjectId('5f344c62c633d6915efd5319'), 'x': 1},\n",
              " {'_id': ObjectId('5f344c68c633d6915efd531a'), 'x': 1},\n",
              " {'_id': ObjectId('5f34705c9d4c295f2637f307'), 'x': 1},\n",
              " {'_id': ObjectId('5f3470619d4c295f2637f308'), 'x': 1},\n",
              " {'_id': ObjectId('5f3470649d4c295f2637f309'), 'x': 1},\n",
              " {'_id': ObjectId('5f34706e9d4c295f2637f30a'), 'x': 1}]"
            ]
          },
          "metadata": {
            "tags": []
          },
          "execution_count": 18
        }
      ]
    },
    {
      "cell_type": "code",
      "metadata": {
        "id": "K-C-sOmLqQfQ",
        "colab_type": "code",
        "colab": {}
      },
      "source": [
        "# Let's add some more interesting documents\n",
        "\n",
        "byrnes_doc = {\n",
        "    'animal': 'manatee',\n",
        "    'color': 'green',\n",
        "    'number': 7\n",
        "}\n",
        "\n",
        "daves_doc = {\n",
        "    'animal': 'bat',\n",
        "    'color': 'red',\n",
        "    'number': 1000\n",
        "}\n",
        "\n",
        "sasanas_doc = {\n",
        "    'animal': 'orca',\n",
        "    'color': 'blue',\n",
        "    'number': 9\n",
        "}\n",
        "\n",
        "tylers_doc = {\n",
        "    'animal': 'hippogryph',\n",
        "    'cities': ['New York', 'Houston']\n",
        "}\n",
        "\n",
        "walters_doc = {\n",
        "    'color': 'chartreuse',\n",
        "    'animal': 'platypus'\n",
        "}\n",
        "\n",
        "aarons_doc = {\n",
        "    'inner_dict': {\n",
        "        'x': 2,\n",
        "        'y': -4,\n",
        "        'z': 'banana'\n",
        "    },\n",
        "    'another_key': (2, 6, 3)\n",
        "}"
      ],
      "execution_count": 19,
      "outputs": []
    },
    {
      "cell_type": "code",
      "metadata": {
        "id": "bsV231sJrT2u",
        "colab_type": "code",
        "colab": {
          "base_uri": "https://localhost:8080/",
          "height": 34
        },
        "outputId": "44650d0f-3633-4cea-af84-7408ef8de0c2"
      },
      "source": [
        "# Let's put them all in a list for convenience\n",
        "all_docs = [byrnes_doc, daves_doc, sasanas_doc, tylers_doc, walters_doc,\n",
        "            aarons_doc]\n",
        "len(all_docs)"
      ],
      "execution_count": 20,
      "outputs": [
        {
          "output_type": "execute_result",
          "data": {
            "text/plain": [
              "6"
            ]
          },
          "metadata": {
            "tags": []
          },
          "execution_count": 20
        }
      ]
    },
    {
      "cell_type": "code",
      "metadata": {
        "id": "qMIfScMTrV87",
        "colab_type": "code",
        "colab": {
          "base_uri": "https://localhost:8080/",
          "height": 34
        },
        "outputId": "4b9f9b64-af85-4462-fa44-c4ac1cbeb8f9"
      },
      "source": [
        "db.test.insert_many(all_docs)"
      ],
      "execution_count": 21,
      "outputs": [
        {
          "output_type": "execute_result",
          "data": {
            "text/plain": [
              "<pymongo.results.InsertManyResult at 0x7f7f55f5e208>"
            ]
          },
          "metadata": {
            "tags": []
          },
          "execution_count": 21
        }
      ]
    },
    {
      "cell_type": "code",
      "metadata": {
        "id": "43-NfelarYSp",
        "colab_type": "code",
        "colab": {
          "base_uri": "https://localhost:8080/",
          "height": 493
        },
        "outputId": "b2a49138-69db-46fe-fd7c-141d9a8512f8"
      },
      "source": [
        "list(db.test.find())"
      ],
      "execution_count": 22,
      "outputs": [
        {
          "output_type": "execute_result",
          "data": {
            "text/plain": [
              "[{'_id': ObjectId('5f344c5ac633d6915efd5318'), 'x': 1},\n",
              " {'_id': ObjectId('5f344c62c633d6915efd5319'), 'x': 1},\n",
              " {'_id': ObjectId('5f344c68c633d6915efd531a'), 'x': 1},\n",
              " {'_id': ObjectId('5f34705c9d4c295f2637f307'), 'x': 1},\n",
              " {'_id': ObjectId('5f3470619d4c295f2637f308'), 'x': 1},\n",
              " {'_id': ObjectId('5f3470649d4c295f2637f309'), 'x': 1},\n",
              " {'_id': ObjectId('5f34706e9d4c295f2637f30a'), 'x': 1},\n",
              " {'_id': ObjectId('5f3470869d4c295f2637f30b'),\n",
              "  'animal': 'manatee',\n",
              "  'color': 'green',\n",
              "  'number': 7},\n",
              " {'_id': ObjectId('5f3470869d4c295f2637f30c'),\n",
              "  'animal': 'bat',\n",
              "  'color': 'red',\n",
              "  'number': 1000},\n",
              " {'_id': ObjectId('5f3470869d4c295f2637f30d'),\n",
              "  'animal': 'orca',\n",
              "  'color': 'blue',\n",
              "  'number': 9},\n",
              " {'_id': ObjectId('5f3470869d4c295f2637f30e'),\n",
              "  'animal': 'hippogryph',\n",
              "  'cities': ['New York', 'Houston']},\n",
              " {'_id': ObjectId('5f3470869d4c295f2637f30f'),\n",
              "  'animal': 'platypus',\n",
              "  'color': 'chartreuse'},\n",
              " {'_id': ObjectId('5f3470869d4c295f2637f310'),\n",
              "  'another_key': [2, 6, 3],\n",
              "  'inner_dict': {'x': 2, 'y': -4, 'z': 'banana'}}]"
            ]
          },
          "metadata": {
            "tags": []
          },
          "execution_count": 22
        }
      ]
    },
    {
      "cell_type": "code",
      "metadata": {
        "id": "C4cKQEI1rajB",
        "colab_type": "code",
        "colab": {
          "base_uri": "https://localhost:8080/",
          "height": 85
        },
        "outputId": "b598f57e-5423-4ef2-f79c-76990f667990"
      },
      "source": [
        "db.test.find_one({'color': 'green'})"
      ],
      "execution_count": 23,
      "outputs": [
        {
          "output_type": "execute_result",
          "data": {
            "text/plain": [
              "{'_id': ObjectId('5f3470869d4c295f2637f30b'),\n",
              " 'animal': 'manatee',\n",
              " 'color': 'green',\n",
              " 'number': 7}"
            ]
          },
          "metadata": {
            "tags": []
          },
          "execution_count": 23
        }
      ]
    },
    {
      "cell_type": "code",
      "metadata": {
        "id": "8YCJWXTorc_C",
        "colab_type": "code",
        "colab": {
          "base_uri": "https://localhost:8080/",
          "height": 34
        },
        "outputId": "abb4b6cf-a1b0-4673-c7fa-94a700848817"
      },
      "source": [
        "db.test.insert_one({\n",
        "    'animal': 'tiger',\n",
        "    'color': 'green',\n",
        "    'city': 'Paris'\n",
        "})"
      ],
      "execution_count": 24,
      "outputs": [
        {
          "output_type": "execute_result",
          "data": {
            "text/plain": [
              "<pymongo.results.InsertOneResult at 0x7f7f3ad04e08>"
            ]
          },
          "metadata": {
            "tags": []
          },
          "execution_count": 24
        }
      ]
    },
    {
      "cell_type": "code",
      "metadata": {
        "id": "3Y8OXRLurgC_",
        "colab_type": "code",
        "colab": {
          "base_uri": "https://localhost:8080/",
          "height": 85
        },
        "outputId": "c707a0ab-cb61-4ff1-a453-557ab4d9354d"
      },
      "source": [
        "db.test.find_one({'color': 'green'})"
      ],
      "execution_count": 25,
      "outputs": [
        {
          "output_type": "execute_result",
          "data": {
            "text/plain": [
              "{'_id': ObjectId('5f3470869d4c295f2637f30b'),\n",
              " 'animal': 'manatee',\n",
              " 'color': 'green',\n",
              " 'number': 7}"
            ]
          },
          "metadata": {
            "tags": []
          },
          "execution_count": 25
        }
      ]
    },
    {
      "cell_type": "code",
      "metadata": {
        "id": "APAPFMY4rio_",
        "colab_type": "code",
        "colab": {
          "base_uri": "https://localhost:8080/",
          "height": 153
        },
        "outputId": "26cfcbfd-9286-4a0f-d5fa-78983ab932f1"
      },
      "source": [
        "list(db.test.find({'color': 'green'}))"
      ],
      "execution_count": 26,
      "outputs": [
        {
          "output_type": "execute_result",
          "data": {
            "text/plain": [
              "[{'_id': ObjectId('5f3470869d4c295f2637f30b'),\n",
              "  'animal': 'manatee',\n",
              "  'color': 'green',\n",
              "  'number': 7},\n",
              " {'_id': ObjectId('5f34708d9d4c295f2637f311'),\n",
              "  'animal': 'tiger',\n",
              "  'city': 'Paris',\n",
              "  'color': 'green'}]"
            ]
          },
          "metadata": {
            "tags": []
          },
          "execution_count": 26
        }
      ]
    },
    {
      "cell_type": "code",
      "metadata": {
        "id": "xoL9Ofwsrlr4",
        "colab_type": "code",
        "colab": {
          "base_uri": "https://localhost:8080/",
          "height": 187
        },
        "outputId": "4281e414-79a3-4903-9441-89799c66befa"
      },
      "source": [
        "more_docs = []\n",
        "for i in range(10):\n",
        "  doc = {'even': i % 2 == 0}\n",
        "  doc['value'] = i\n",
        "  more_docs.append(doc)\n",
        "  \n",
        "more_docs"
      ],
      "execution_count": 27,
      "outputs": [
        {
          "output_type": "execute_result",
          "data": {
            "text/plain": [
              "[{'even': True, 'value': 0},\n",
              " {'even': False, 'value': 1},\n",
              " {'even': True, 'value': 2},\n",
              " {'even': False, 'value': 3},\n",
              " {'even': True, 'value': 4},\n",
              " {'even': False, 'value': 5},\n",
              " {'even': True, 'value': 6},\n",
              " {'even': False, 'value': 7},\n",
              " {'even': True, 'value': 8},\n",
              " {'even': False, 'value': 9}]"
            ]
          },
          "metadata": {
            "tags": []
          },
          "execution_count": 27
        }
      ]
    },
    {
      "cell_type": "code",
      "metadata": {
        "id": "ovdQUqGkroHc",
        "colab_type": "code",
        "colab": {
          "base_uri": "https://localhost:8080/",
          "height": 34
        },
        "outputId": "e2737f4d-5f2c-4955-eedb-6bcb2acb0b99"
      },
      "source": [
        "db.test.insert_many(more_docs)"
      ],
      "execution_count": 28,
      "outputs": [
        {
          "output_type": "execute_result",
          "data": {
            "text/plain": [
              "<pymongo.results.InsertManyResult at 0x7f7f3ad04188>"
            ]
          },
          "metadata": {
            "tags": []
          },
          "execution_count": 28
        }
      ]
    },
    {
      "cell_type": "code",
      "metadata": {
        "id": "VJaBcGgrrqn_",
        "colab_type": "code",
        "colab": {
          "base_uri": "https://localhost:8080/",
          "height": 34
        },
        "outputId": "883a8120-8ef4-442e-ea38-c413a03b302b"
      },
      "source": [
        "list(db.test.find({'even': True, 'value': 0}))"
      ],
      "execution_count": 29,
      "outputs": [
        {
          "output_type": "execute_result",
          "data": {
            "text/plain": [
              "[{'_id': ObjectId('5f3470999d4c295f2637f312'), 'even': True, 'value': 0}]"
            ]
          },
          "metadata": {
            "tags": []
          },
          "execution_count": 29
        }
      ]
    },
    {
      "cell_type": "code",
      "metadata": {
        "id": "Vw9YdcXIrtAy",
        "colab_type": "code",
        "colab": {
          "base_uri": "https://localhost:8080/",
          "height": 34
        },
        "outputId": "cffebb4b-7bc9-4117-bc28-943b92fb93cc"
      },
      "source": [
        "list(db.test.find({'even': True, 'value': 7}))  # Doesn't exist!"
      ],
      "execution_count": 30,
      "outputs": [
        {
          "output_type": "execute_result",
          "data": {
            "text/plain": [
              "[]"
            ]
          },
          "metadata": {
            "tags": []
          },
          "execution_count": 30
        }
      ]
    },
    {
      "cell_type": "code",
      "metadata": {
        "id": "iRSaDKZsrvDz",
        "colab_type": "code",
        "colab": {
          "base_uri": "https://localhost:8080/",
          "height": 102
        },
        "outputId": "7904971a-414b-4896-b7ef-42ad2f1fa0e6"
      },
      "source": [
        "list(db.test.find({'even': True}))"
      ],
      "execution_count": 31,
      "outputs": [
        {
          "output_type": "execute_result",
          "data": {
            "text/plain": [
              "[{'_id': ObjectId('5f3470999d4c295f2637f312'), 'even': True, 'value': 0},\n",
              " {'_id': ObjectId('5f3470999d4c295f2637f314'), 'even': True, 'value': 2},\n",
              " {'_id': ObjectId('5f3470999d4c295f2637f316'), 'even': True, 'value': 4},\n",
              " {'_id': ObjectId('5f3470999d4c295f2637f318'), 'even': True, 'value': 6},\n",
              " {'_id': ObjectId('5f3470999d4c295f2637f31a'), 'even': True, 'value': 8}]"
            ]
          },
          "metadata": {
            "tags": []
          },
          "execution_count": 31
        }
      ]
    },
    {
      "cell_type": "code",
      "metadata": {
        "id": "99I_NHourxUf",
        "colab_type": "code",
        "colab": {
          "base_uri": "https://localhost:8080/",
          "height": 1000
        },
        "outputId": "c6fec36a-f181-4f31-8309-0a20b6d95fc6"
      },
      "source": [
        "# We have both inserted (created) and found (read) entries in the database\n",
        "# Mongo does CRUD\n",
        "# Let's check out U: Update\n",
        "# And D: Destroy (or Delete)\n",
        "help(db.test.update_one)"
      ],
      "execution_count": 32,
      "outputs": [
        {
          "output_type": "stream",
          "text": [
            "Help on method update_one in module pymongo.collection:\n",
            "\n",
            "update_one(filter, update, upsert=False, bypass_document_validation=False, collation=None, array_filters=None, hint=None, session=None) method of pymongo.collection.Collection instance\n",
            "    Update a single document matching the filter.\n",
            "    \n",
            "      >>> for doc in db.test.find():\n",
            "      ...     print(doc)\n",
            "      ...\n",
            "      {u'x': 1, u'_id': 0}\n",
            "      {u'x': 1, u'_id': 1}\n",
            "      {u'x': 1, u'_id': 2}\n",
            "      >>> result = db.test.update_one({'x': 1}, {'$inc': {'x': 3}})\n",
            "      >>> result.matched_count\n",
            "      1\n",
            "      >>> result.modified_count\n",
            "      1\n",
            "      >>> for doc in db.test.find():\n",
            "      ...     print(doc)\n",
            "      ...\n",
            "      {u'x': 4, u'_id': 0}\n",
            "      {u'x': 1, u'_id': 1}\n",
            "      {u'x': 1, u'_id': 2}\n",
            "    \n",
            "    :Parameters:\n",
            "      - `filter`: A query that matches the document to update.\n",
            "      - `update`: The modifications to apply.\n",
            "      - `upsert` (optional): If ``True``, perform an insert if no documents\n",
            "        match the filter.\n",
            "      - `bypass_document_validation`: (optional) If ``True``, allows the\n",
            "        write to opt-out of document level validation. Default is\n",
            "        ``False``. This option is only supported on MongoDB 3.2 and above.\n",
            "      - `collation` (optional): An instance of\n",
            "        :class:`~pymongo.collation.Collation`. This option is only supported\n",
            "        on MongoDB 3.4 and above.\n",
            "      - `array_filters` (optional): A list of filters specifying which\n",
            "        array elements an update should apply. This option is only\n",
            "        supported on MongoDB 3.6 and above.\n",
            "      - `hint` (optional): An index to use to support the query\n",
            "        predicate specified either by its string name, or in the same\n",
            "        format as passed to\n",
            "        :meth:`~pymongo.collection.Collection.create_index` (e.g.\n",
            "        ``[('field', ASCENDING)]``). This option is only supported on\n",
            "        MongoDB 4.2 and above.\n",
            "      - `session` (optional): a\n",
            "        :class:`~pymongo.client_session.ClientSession`.\n",
            "    \n",
            "    :Returns:\n",
            "      - An instance of :class:`~pymongo.results.UpdateResult`.\n",
            "    \n",
            "    .. versionchanged:: 3.11\n",
            "       Added ``hint`` parameter.\n",
            "    .. versionchanged:: 3.9\n",
            "       Added the ability to accept a pipeline as the ``update``.\n",
            "    .. versionchanged:: 3.6\n",
            "       Added the ``array_filters`` and ``session`` parameters.\n",
            "    .. versionchanged:: 3.4\n",
            "      Added the ``collation`` option.\n",
            "    .. versionchanged:: 3.2\n",
            "      Added ``bypass_document_validation`` support.\n",
            "    \n",
            "    .. versionadded:: 3.0\n",
            "\n"
          ],
          "name": "stdout"
        }
      ]
    },
    {
      "cell_type": "code",
      "metadata": {
        "id": "o1lmTZIEr00a",
        "colab_type": "code",
        "colab": {}
      },
      "source": [
        "result = db.test.update_one({'x': 1}, {'$inc': {'x': 3}})"
      ],
      "execution_count": 33,
      "outputs": []
    },
    {
      "cell_type": "code",
      "metadata": {
        "id": "FWfDiNcHr2wg",
        "colab_type": "code",
        "colab": {
          "base_uri": "https://localhost:8080/",
          "height": 34
        },
        "outputId": "94d7bebb-a35e-4760-bb53-3bacbd579409"
      },
      "source": [
        "result.matched_count"
      ],
      "execution_count": 34,
      "outputs": [
        {
          "output_type": "execute_result",
          "data": {
            "text/plain": [
              "1"
            ]
          },
          "metadata": {
            "tags": []
          },
          "execution_count": 34
        }
      ]
    },
    {
      "cell_type": "code",
      "metadata": {
        "id": "EM1NY5wxr4nH",
        "colab_type": "code",
        "colab": {
          "base_uri": "https://localhost:8080/",
          "height": 34
        },
        "outputId": "d3999200-835f-42cb-af69-7bed102f7e1e"
      },
      "source": [
        "result.modified_count"
      ],
      "execution_count": 35,
      "outputs": [
        {
          "output_type": "execute_result",
          "data": {
            "text/plain": [
              "1"
            ]
          },
          "metadata": {
            "tags": []
          },
          "execution_count": 35
        }
      ]
    },
    {
      "cell_type": "code",
      "metadata": {
        "id": "boyIBYYQr6sh",
        "colab_type": "code",
        "colab": {}
      },
      "source": [
        "result = db.test.update_one({'x': 100}, {'$inc': {'x': 300}})"
      ],
      "execution_count": 39,
      "outputs": []
    },
    {
      "cell_type": "code",
      "metadata": {
        "id": "xx6wR5bmr80a",
        "colab_type": "code",
        "colab": {
          "base_uri": "https://localhost:8080/",
          "height": 34
        },
        "outputId": "a55966ff-4de2-40a4-8e1d-eac7c367c823"
      },
      "source": [
        "result.matched_count"
      ],
      "execution_count": 40,
      "outputs": [
        {
          "output_type": "execute_result",
          "data": {
            "text/plain": [
              "0"
            ]
          },
          "metadata": {
            "tags": []
          },
          "execution_count": 40
        }
      ]
    },
    {
      "cell_type": "code",
      "metadata": {
        "id": "phO9IRMkr_dW",
        "colab_type": "code",
        "colab": {
          "base_uri": "https://localhost:8080/",
          "height": 34
        },
        "outputId": "9b59a491-b7f4-4972-b436-011e3a03a9d1"
      },
      "source": [
        "result.modified_count"
      ],
      "execution_count": 41,
      "outputs": [
        {
          "output_type": "execute_result",
          "data": {
            "text/plain": [
              "0"
            ]
          },
          "metadata": {
            "tags": []
          },
          "execution_count": 41
        }
      ]
    },
    {
      "cell_type": "code",
      "metadata": {
        "id": "RDtEkorGsCFI",
        "colab_type": "code",
        "colab": {
          "base_uri": "https://localhost:8080/",
          "height": 731
        },
        "outputId": "31328219-2c58-42aa-f7a7-9f98aaf0561f"
      },
      "source": [
        "list(db.test.find())"
      ],
      "execution_count": 42,
      "outputs": [
        {
          "output_type": "execute_result",
          "data": {
            "text/plain": [
              "[{'_id': ObjectId('5f344c5ac633d6915efd5318'), 'x': 4},\n",
              " {'_id': ObjectId('5f344c62c633d6915efd5319'), 'x': 1},\n",
              " {'_id': ObjectId('5f344c68c633d6915efd531a'), 'x': 1},\n",
              " {'_id': ObjectId('5f34705c9d4c295f2637f307'), 'x': 1},\n",
              " {'_id': ObjectId('5f3470619d4c295f2637f308'), 'x': 1},\n",
              " {'_id': ObjectId('5f3470649d4c295f2637f309'), 'x': 1},\n",
              " {'_id': ObjectId('5f34706e9d4c295f2637f30a'), 'x': 1},\n",
              " {'_id': ObjectId('5f3470869d4c295f2637f30b'),\n",
              "  'animal': 'manatee',\n",
              "  'color': 'green',\n",
              "  'number': 7},\n",
              " {'_id': ObjectId('5f3470869d4c295f2637f30c'),\n",
              "  'animal': 'bat',\n",
              "  'color': 'red',\n",
              "  'number': 1000},\n",
              " {'_id': ObjectId('5f3470869d4c295f2637f30d'),\n",
              "  'animal': 'orca',\n",
              "  'color': 'blue',\n",
              "  'number': 9},\n",
              " {'_id': ObjectId('5f3470869d4c295f2637f30e'),\n",
              "  'animal': 'hippogryph',\n",
              "  'cities': ['New York', 'Houston']},\n",
              " {'_id': ObjectId('5f3470869d4c295f2637f30f'),\n",
              "  'animal': 'platypus',\n",
              "  'color': 'chartreuse'},\n",
              " {'_id': ObjectId('5f3470869d4c295f2637f310'),\n",
              "  'another_key': [2, 6, 3],\n",
              "  'inner_dict': {'x': 2, 'y': -4, 'z': 'banana'}},\n",
              " {'_id': ObjectId('5f34708d9d4c295f2637f311'),\n",
              "  'animal': 'tiger',\n",
              "  'city': 'Paris',\n",
              "  'color': 'green'},\n",
              " {'_id': ObjectId('5f3470999d4c295f2637f312'), 'even': True, 'value': 0},\n",
              " {'_id': ObjectId('5f3470999d4c295f2637f313'), 'even': False, 'value': 1},\n",
              " {'_id': ObjectId('5f3470999d4c295f2637f314'), 'even': True, 'value': 2},\n",
              " {'_id': ObjectId('5f3470999d4c295f2637f315'), 'even': False, 'value': 3},\n",
              " {'_id': ObjectId('5f3470999d4c295f2637f316'), 'even': True, 'value': 4},\n",
              " {'_id': ObjectId('5f3470999d4c295f2637f317'), 'even': False, 'value': 5},\n",
              " {'_id': ObjectId('5f3470999d4c295f2637f318'), 'even': True, 'value': 6},\n",
              " {'_id': ObjectId('5f3470999d4c295f2637f319'), 'even': False, 'value': 7},\n",
              " {'_id': ObjectId('5f3470999d4c295f2637f31a'), 'even': True, 'value': 8},\n",
              " {'_id': ObjectId('5f3470999d4c295f2637f31b'), 'even': False, 'value': 9}]"
            ]
          },
          "metadata": {
            "tags": []
          },
          "execution_count": 42
        }
      ]
    }
  ]
}